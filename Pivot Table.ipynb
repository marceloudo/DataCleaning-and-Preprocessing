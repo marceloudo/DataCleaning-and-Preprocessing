{
 "cells": [
  {
   "cell_type": "markdown",
   "id": "1f608903",
   "metadata": {},
   "source": [
    "# <font color=green>Pivot Table</font>\n",
    "***\n",
    "Who needs to create a table in Python and send it via email, I create simple steps to do that."
   ]
  },
  {
   "cell_type": "markdown",
   "id": "4c16195c",
   "metadata": {},
   "source": [
    "## <font color=green>Using Pandas to create a table</font>\n",
    "***\n",
    "This notebook focus in showing how to send a table with relevant information to people.\n",
    "Imagine that being really relevant and automatically being sent everyday."
   ]
  },
  {
   "cell_type": "code",
   "execution_count": 33,
   "id": "f3dce058",
   "metadata": {},
   "outputs": [
    {
     "name": "stdout",
     "output_type": "stream",
     "text": [
      "Item       Apple  Banana  Broccoli  Carrot  Lettuce  Orange\n",
      "Category                                                   \n",
      "Fruit       10.0    12.0       NaN     NaN      NaN    15.0\n",
      "Vegetable    NaN     NaN       8.0    20.0     18.0     NaN\n"
     ]
    }
   ],
   "source": [
    "import pandas as pd\n",
    "\n",
    "# Existing DataFrame\n",
    "data = {\n",
    "    'Category': ['Fruit', 'Fruit', 'Vegetable', 'Vegetable', 'Fruit', 'Vegetable'],\n",
    "    'Item': ['Apple', 'Orange', 'Carrot', 'Broccoli', 'Banana', 'Lettuce'],\n",
    "    'Price': [1.0, 0.8, 0.5, 0.7, 1.2, 0.6],\n",
    "    'Quantity': [10, 15, 20, 8, 12, 18]\n",
    "}\n",
    "\n",
    "df = pd.DataFrame(data)\n",
    "\n",
    "# Create a pivot table\n",
    "pivot_table = df.pivot_table(index='Category', columns='Item', values='Quantity', aggfunc='sum')\n",
    "\n",
    "print(pivot_table)"
   ]
  },
  {
   "cell_type": "markdown",
   "id": "0ae0235a",
   "metadata": {},
   "source": [
    "## <font color=green>I want to show this table with a better visual.</font>\n",
    "***\n",
    "Let's go to define that!<br>\n",
    "There is a list of colors to be chosen for the cmap attribute."
   ]
  },
  {
   "cell_type": "code",
   "execution_count": 34,
   "id": "627495b9",
   "metadata": {},
   "outputs": [
    {
     "data": {
      "text/html": [
       "<style type=\"text/css\">\n",
       "#T_96b1b_row0_col0, #T_96b1b_row0_col1, #T_96b1b_row0_col2, #T_96b1b_row0_col3, #T_96b1b_row0_col4, #T_96b1b_row0_col5, #T_96b1b_row1_col0, #T_96b1b_row1_col1, #T_96b1b_row1_col2, #T_96b1b_row1_col3, #T_96b1b_row1_col4, #T_96b1b_row1_col5 {\n",
       "  background-color: #3b4cc0;\n",
       "  color: #f1f1f1;\n",
       "}\n",
       "</style>\n",
       "<table id=\"T_96b1b\">\n",
       "  <thead>\n",
       "    <tr>\n",
       "      <th class=\"index_name level0\" >Item</th>\n",
       "      <th id=\"T_96b1b_level0_col0\" class=\"col_heading level0 col0\" >Apple</th>\n",
       "      <th id=\"T_96b1b_level0_col1\" class=\"col_heading level0 col1\" >Banana</th>\n",
       "      <th id=\"T_96b1b_level0_col2\" class=\"col_heading level0 col2\" >Broccoli</th>\n",
       "      <th id=\"T_96b1b_level0_col3\" class=\"col_heading level0 col3\" >Carrot</th>\n",
       "      <th id=\"T_96b1b_level0_col4\" class=\"col_heading level0 col4\" >Lettuce</th>\n",
       "      <th id=\"T_96b1b_level0_col5\" class=\"col_heading level0 col5\" >Orange</th>\n",
       "    </tr>\n",
       "    <tr>\n",
       "      <th class=\"index_name level0\" >Category</th>\n",
       "      <th class=\"blank col0\" >&nbsp;</th>\n",
       "      <th class=\"blank col1\" >&nbsp;</th>\n",
       "      <th class=\"blank col2\" >&nbsp;</th>\n",
       "      <th class=\"blank col3\" >&nbsp;</th>\n",
       "      <th class=\"blank col4\" >&nbsp;</th>\n",
       "      <th class=\"blank col5\" >&nbsp;</th>\n",
       "    </tr>\n",
       "  </thead>\n",
       "  <tbody>\n",
       "    <tr>\n",
       "      <th id=\"T_96b1b_level0_row0\" class=\"row_heading level0 row0\" >Fruit</th>\n",
       "      <td id=\"T_96b1b_row0_col0\" class=\"data row0 col0\" >10.000000</td>\n",
       "      <td id=\"T_96b1b_row0_col1\" class=\"data row0 col1\" >12.000000</td>\n",
       "      <td id=\"T_96b1b_row0_col2\" class=\"data row0 col2\" >nan</td>\n",
       "      <td id=\"T_96b1b_row0_col3\" class=\"data row0 col3\" >nan</td>\n",
       "      <td id=\"T_96b1b_row0_col4\" class=\"data row0 col4\" >nan</td>\n",
       "      <td id=\"T_96b1b_row0_col5\" class=\"data row0 col5\" >15.000000</td>\n",
       "    </tr>\n",
       "    <tr>\n",
       "      <th id=\"T_96b1b_level0_row1\" class=\"row_heading level0 row1\" >Vegetable</th>\n",
       "      <td id=\"T_96b1b_row1_col0\" class=\"data row1 col0\" >nan</td>\n",
       "      <td id=\"T_96b1b_row1_col1\" class=\"data row1 col1\" >nan</td>\n",
       "      <td id=\"T_96b1b_row1_col2\" class=\"data row1 col2\" >8.000000</td>\n",
       "      <td id=\"T_96b1b_row1_col3\" class=\"data row1 col3\" >20.000000</td>\n",
       "      <td id=\"T_96b1b_row1_col4\" class=\"data row1 col4\" >18.000000</td>\n",
       "      <td id=\"T_96b1b_row1_col5\" class=\"data row1 col5\" >nan</td>\n",
       "    </tr>\n",
       "  </tbody>\n",
       "</table>\n"
      ],
      "text/plain": [
       "<pandas.io.formats.style.Styler at 0x27cbc3655e0>"
      ]
     },
     "execution_count": 34,
     "metadata": {},
     "output_type": "execute_result"
    }
   ],
   "source": [
    "# Apply custom styles\n",
    "styled_pivot_table = pivot_table.style.background_gradient(cmap='coolwarm')\n",
    "\n",
    "# Display the styled pivot table\n",
    "styled_pivot_table"
   ]
  },
  {
   "cell_type": "markdown",
   "id": "20034e37",
   "metadata": {},
   "source": [
    "## <font color=green>Don't forget data cleaning</font>\n",
    "***\n",
    "Let's fix those cells with 'nan'."
   ]
  },
  {
   "cell_type": "code",
   "execution_count": 43,
   "id": "a952e551",
   "metadata": {},
   "outputs": [
    {
     "data": {
      "text/html": [
       "<div>\n",
       "<style scoped>\n",
       "    .dataframe tbody tr th:only-of-type {\n",
       "        vertical-align: middle;\n",
       "    }\n",
       "\n",
       "    .dataframe tbody tr th {\n",
       "        vertical-align: top;\n",
       "    }\n",
       "\n",
       "    .dataframe thead th {\n",
       "        text-align: right;\n",
       "    }\n",
       "</style>\n",
       "<table border=\"1\" class=\"dataframe\">\n",
       "  <thead>\n",
       "    <tr style=\"text-align: right;\">\n",
       "      <th>Item</th>\n",
       "      <th>Apple</th>\n",
       "      <th>Banana</th>\n",
       "      <th>Broccoli</th>\n",
       "      <th>Carrot</th>\n",
       "      <th>Lettuce</th>\n",
       "      <th>Orange</th>\n",
       "    </tr>\n",
       "    <tr>\n",
       "      <th>Category</th>\n",
       "      <th></th>\n",
       "      <th></th>\n",
       "      <th></th>\n",
       "      <th></th>\n",
       "      <th></th>\n",
       "      <th></th>\n",
       "    </tr>\n",
       "  </thead>\n",
       "  <tbody>\n",
       "    <tr>\n",
       "      <th>Fruit</th>\n",
       "      <td>10.0</td>\n",
       "      <td>12.0</td>\n",
       "      <td>0.0</td>\n",
       "      <td>0.0</td>\n",
       "      <td>0.0</td>\n",
       "      <td>15.0</td>\n",
       "    </tr>\n",
       "    <tr>\n",
       "      <th>Vegetable</th>\n",
       "      <td>0.0</td>\n",
       "      <td>0.0</td>\n",
       "      <td>8.0</td>\n",
       "      <td>20.0</td>\n",
       "      <td>18.0</td>\n",
       "      <td>0.0</td>\n",
       "    </tr>\n",
       "  </tbody>\n",
       "</table>\n",
       "</div>"
      ],
      "text/plain": [
       "Item       Apple  Banana  Broccoli  Carrot  Lettuce  Orange\n",
       "Category                                                   \n",
       "Fruit       10.0    12.0       0.0     0.0      0.0    15.0\n",
       "Vegetable    0.0     0.0       8.0    20.0     18.0     0.0"
      ]
     },
     "execution_count": 43,
     "metadata": {},
     "output_type": "execute_result"
    }
   ],
   "source": [
    "# Replace NaN values with blank\n",
    "pivot_table.fillna(0, inplace=True)\n",
    "pivot_table"
   ]
  },
  {
   "cell_type": "markdown",
   "id": "7e4174a7",
   "metadata": {},
   "source": [
    "## <font color=green>Now we have the style working</font>\n",
    "***\n",
    "Let's evaluate the information now."
   ]
  },
  {
   "cell_type": "code",
   "execution_count": 45,
   "id": "3b159d46",
   "metadata": {},
   "outputs": [
    {
     "data": {
      "text/html": [
       "<style type=\"text/css\">\n",
       "#T_b68f4_row0_col0, #T_b68f4_row0_col1, #T_b68f4_row0_col5, #T_b68f4_row1_col2, #T_b68f4_row1_col3, #T_b68f4_row1_col4 {\n",
       "  background-color: #ff0000;\n",
       "  color: #f1f1f1;\n",
       "}\n",
       "#T_b68f4_row0_col2, #T_b68f4_row0_col3, #T_b68f4_row0_col4, #T_b68f4_row1_col0, #T_b68f4_row1_col1, #T_b68f4_row1_col5 {\n",
       "  background-color: #0000ff;\n",
       "  color: #f1f1f1;\n",
       "}\n",
       "</style>\n",
       "<table id=\"T_b68f4\">\n",
       "  <thead>\n",
       "    <tr>\n",
       "      <th class=\"index_name level0\" >Item</th>\n",
       "      <th id=\"T_b68f4_level0_col0\" class=\"col_heading level0 col0\" >Apple</th>\n",
       "      <th id=\"T_b68f4_level0_col1\" class=\"col_heading level0 col1\" >Banana</th>\n",
       "      <th id=\"T_b68f4_level0_col2\" class=\"col_heading level0 col2\" >Broccoli</th>\n",
       "      <th id=\"T_b68f4_level0_col3\" class=\"col_heading level0 col3\" >Carrot</th>\n",
       "      <th id=\"T_b68f4_level0_col4\" class=\"col_heading level0 col4\" >Lettuce</th>\n",
       "      <th id=\"T_b68f4_level0_col5\" class=\"col_heading level0 col5\" >Orange</th>\n",
       "    </tr>\n",
       "    <tr>\n",
       "      <th class=\"index_name level0\" >Category</th>\n",
       "      <th class=\"blank col0\" >&nbsp;</th>\n",
       "      <th class=\"blank col1\" >&nbsp;</th>\n",
       "      <th class=\"blank col2\" >&nbsp;</th>\n",
       "      <th class=\"blank col3\" >&nbsp;</th>\n",
       "      <th class=\"blank col4\" >&nbsp;</th>\n",
       "      <th class=\"blank col5\" >&nbsp;</th>\n",
       "    </tr>\n",
       "  </thead>\n",
       "  <tbody>\n",
       "    <tr>\n",
       "      <th id=\"T_b68f4_level0_row0\" class=\"row_heading level0 row0\" >Fruit</th>\n",
       "      <td id=\"T_b68f4_row0_col0\" class=\"data row0 col0\" >10.000000</td>\n",
       "      <td id=\"T_b68f4_row0_col1\" class=\"data row0 col1\" >12.000000</td>\n",
       "      <td id=\"T_b68f4_row0_col2\" class=\"data row0 col2\" >0.000000</td>\n",
       "      <td id=\"T_b68f4_row0_col3\" class=\"data row0 col3\" >0.000000</td>\n",
       "      <td id=\"T_b68f4_row0_col4\" class=\"data row0 col4\" >0.000000</td>\n",
       "      <td id=\"T_b68f4_row0_col5\" class=\"data row0 col5\" >15.000000</td>\n",
       "    </tr>\n",
       "    <tr>\n",
       "      <th id=\"T_b68f4_level0_row1\" class=\"row_heading level0 row1\" >Vegetable</th>\n",
       "      <td id=\"T_b68f4_row1_col0\" class=\"data row1 col0\" >0.000000</td>\n",
       "      <td id=\"T_b68f4_row1_col1\" class=\"data row1 col1\" >0.000000</td>\n",
       "      <td id=\"T_b68f4_row1_col2\" class=\"data row1 col2\" >8.000000</td>\n",
       "      <td id=\"T_b68f4_row1_col3\" class=\"data row1 col3\" >20.000000</td>\n",
       "      <td id=\"T_b68f4_row1_col4\" class=\"data row1 col4\" >18.000000</td>\n",
       "      <td id=\"T_b68f4_row1_col5\" class=\"data row1 col5\" >0.000000</td>\n",
       "    </tr>\n",
       "  </tbody>\n",
       "</table>\n"
      ],
      "text/plain": [
       "<pandas.io.formats.style.Styler at 0x27cbbe6ba60>"
      ]
     },
     "execution_count": 45,
     "metadata": {},
     "output_type": "execute_result"
    }
   ],
   "source": [
    "# Apply custom styles\n",
    "styled_pivot_table = pivot_table.style.background_gradient(cmap='bwr')\n",
    "\n",
    "# Display the styled pivot table\n",
    "styled_pivot_table"
   ]
  },
  {
   "cell_type": "markdown",
   "id": "8aee1431",
   "metadata": {},
   "source": [
    "## <font color=green>Transforming data into HTML</font>\n",
    "***\n",
    "Steps to convert your data into HTML."
   ]
  },
  {
   "cell_type": "code",
   "execution_count": 46,
   "id": "1e914714",
   "metadata": {},
   "outputs": [
    {
     "name": "stdout",
     "output_type": "stream",
     "text": [
      "<style type=\"text/css\">\n",
      "#T_b68f4_row0_col0, #T_b68f4_row0_col1, #T_b68f4_row0_col5, #T_b68f4_row1_col2, #T_b68f4_row1_col3, #T_b68f4_row1_col4 {\n",
      "  background-color: #ff0000;\n",
      "  color: #f1f1f1;\n",
      "}\n",
      "#T_b68f4_row0_col2, #T_b68f4_row0_col3, #T_b68f4_row0_col4, #T_b68f4_row1_col0, #T_b68f4_row1_col1, #T_b68f4_row1_col5 {\n",
      "  background-color: #0000ff;\n",
      "  color: #f1f1f1;\n",
      "}\n",
      "</style>\n",
      "<table id=\"T_b68f4\">\n",
      "  <thead>\n",
      "    <tr>\n",
      "      <th class=\"index_name level0\" >Item</th>\n",
      "      <th id=\"T_b68f4_level0_col0\" class=\"col_heading level0 col0\" >Apple</th>\n",
      "      <th id=\"T_b68f4_level0_col1\" class=\"col_heading level0 col1\" >Banana</th>\n",
      "      <th id=\"T_b68f4_level0_col2\" class=\"col_heading level0 col2\" >Broccoli</th>\n",
      "      <th id=\"T_b68f4_level0_col3\" class=\"col_heading level0 col3\" >Carrot</th>\n",
      "      <th id=\"T_b68f4_level0_col4\" class=\"col_heading level0 col4\" >Lettuce</th>\n",
      "      <th id=\"T_b68f4_level0_col5\" class=\"col_heading level0 col5\" >Orange</th>\n",
      "    </tr>\n",
      "    <tr>\n",
      "      <th class=\"index_name level0\" >Category</th>\n",
      "      <th class=\"blank col0\" >&nbsp;</th>\n",
      "      <th class=\"blank col1\" >&nbsp;</th>\n",
      "      <th class=\"blank col2\" >&nbsp;</th>\n",
      "      <th class=\"blank col3\" >&nbsp;</th>\n",
      "      <th class=\"blank col4\" >&nbsp;</th>\n",
      "      <th class=\"blank col5\" >&nbsp;</th>\n",
      "    </tr>\n",
      "  </thead>\n",
      "  <tbody>\n",
      "    <tr>\n",
      "      <th id=\"T_b68f4_level0_row0\" class=\"row_heading level0 row0\" >Fruit</th>\n",
      "      <td id=\"T_b68f4_row0_col0\" class=\"data row0 col0\" >10.000000</td>\n",
      "      <td id=\"T_b68f4_row0_col1\" class=\"data row0 col1\" >12.000000</td>\n",
      "      <td id=\"T_b68f4_row0_col2\" class=\"data row0 col2\" >0.000000</td>\n",
      "      <td id=\"T_b68f4_row0_col3\" class=\"data row0 col3\" >0.000000</td>\n",
      "      <td id=\"T_b68f4_row0_col4\" class=\"data row0 col4\" >0.000000</td>\n",
      "      <td id=\"T_b68f4_row0_col5\" class=\"data row0 col5\" >15.000000</td>\n",
      "    </tr>\n",
      "    <tr>\n",
      "      <th id=\"T_b68f4_level0_row1\" class=\"row_heading level0 row1\" >Vegetable</th>\n",
      "      <td id=\"T_b68f4_row1_col0\" class=\"data row1 col0\" >0.000000</td>\n",
      "      <td id=\"T_b68f4_row1_col1\" class=\"data row1 col1\" >0.000000</td>\n",
      "      <td id=\"T_b68f4_row1_col2\" class=\"data row1 col2\" >8.000000</td>\n",
      "      <td id=\"T_b68f4_row1_col3\" class=\"data row1 col3\" >20.000000</td>\n",
      "      <td id=\"T_b68f4_row1_col4\" class=\"data row1 col4\" >18.000000</td>\n",
      "      <td id=\"T_b68f4_row1_col5\" class=\"data row1 col5\" >0.000000</td>\n",
      "    </tr>\n",
      "  </tbody>\n",
      "</table>\n",
      "\n"
     ]
    }
   ],
   "source": [
    "# Convert styled DataFrame to HTML\n",
    "html_table = styled_pivot_table.to_html()\n",
    "\n",
    "# Print or save the HTML table\n",
    "print(html_table)\n",
    "# You can then use the HTML table in your email body or attach it to the email"
   ]
  },
  {
   "cell_type": "markdown",
   "id": "bd3e6630",
   "metadata": {},
   "source": [
    "## <font color=green>Set Up email</font>\n",
    "***\n",
    "Steps to use Microsoft Outlook"
   ]
  },
  {
   "cell_type": "code",
   "execution_count": 47,
   "id": "ea986b26",
   "metadata": {},
   "outputs": [],
   "source": [
    "import win32com.client as win32"
   ]
  },
  {
   "cell_type": "code",
   "execution_count": 48,
   "id": "2959b235",
   "metadata": {},
   "outputs": [],
   "source": [
    "# criar a integração com o outlook\n",
    "outlook = win32.Dispatch('outlook.application')\n",
    "\n",
    "# criar um email\n",
    "email = outlook.CreateItem(0)"
   ]
  },
  {
   "cell_type": "code",
   "execution_count": 49,
   "id": "be40fcee",
   "metadata": {},
   "outputs": [],
   "source": [
    "from datetime import datetime\n",
    "\n",
    "# Get the current date and time\n",
    "current_date = datetime.now()\n",
    "\n",
    "# Format the current date and time\n",
    "formatted_date = current_date.strftime('%Y-%m-%d %H:%M:%S')"
   ]
  },
  {
   "cell_type": "markdown",
   "id": "4707567e",
   "metadata": {},
   "source": [
    "## <font color=green>Set Up email</font>\n",
    "***\n",
    "You define people that need to receive the email and the sender of it."
   ]
  },
  {
   "cell_type": "code",
   "execution_count": 50,
   "id": "fccde272",
   "metadata": {},
   "outputs": [
    {
     "name": "stdout",
     "output_type": "stream",
     "text": [
      "Email Enviado\n"
     ]
    }
   ],
   "source": [
    "sender_address = \"controladoria-bi@paranapanema.com.br\"\n",
    "email.SentOnBehalfOfName = sender_address\n",
    "email.To = \"marceloudo@paranapanema.com.br\"\n",
    "email.Subject = \"[Informações de negócio] - \" + formatted_date\n",
    "email.HTMLBody = html_table\n",
    "email.Send()\n",
    "print(\"Email Enviado\")"
   ]
  },
  {
   "cell_type": "code",
   "execution_count": null,
   "id": "aff0c62d",
   "metadata": {},
   "outputs": [],
   "source": []
  }
 ],
 "metadata": {
  "kernelspec": {
   "display_name": "Python 3 (ipykernel)",
   "language": "python",
   "name": "python3"
  },
  "language_info": {
   "codemirror_mode": {
    "name": "ipython",
    "version": 3
   },
   "file_extension": ".py",
   "mimetype": "text/x-python",
   "name": "python",
   "nbconvert_exporter": "python",
   "pygments_lexer": "ipython3",
   "version": "3.9.16"
  }
 },
 "nbformat": 4,
 "nbformat_minor": 5
}
